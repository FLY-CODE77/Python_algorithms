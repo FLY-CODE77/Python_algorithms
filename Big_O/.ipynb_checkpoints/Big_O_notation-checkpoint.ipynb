{
 "cells": [
  {
   "cell_type": "markdown",
   "id": "executive-earthquake",
   "metadata": {},
   "source": [
    "# Big-O notation"
   ]
  },
  {
   "cell_type": "code",
   "execution_count": 1,
   "id": "documentary-increase",
   "metadata": {},
   "outputs": [],
   "source": [
    "# showing algorism efficiency"
   ]
  },
  {
   "cell_type": "code",
   "execution_count": 2,
   "id": "martial-productivity",
   "metadata": {},
   "outputs": [],
   "source": [
    "# big-O feature\n",
    "# Constant ignore\n",
    "# 영향력 없는 항 무시"
   ]
  },
  {
   "cell_type": "code",
   "execution_count": null,
   "id": "judicial-virtue",
   "metadata": {},
   "outputs": [],
   "source": [
    "# gpu, 등을 쓰는게 우리가 딥러닝에서 이런 어쩔수 없는 차수가 높은 함수를 사용할떄 \n",
    "# 하나의 연산량이 어마무시하게 늘기 때문이다."
   ]
  },
  {
   "cell_type": "markdown",
   "id": "stuck-maximum",
   "metadata": {},
   "source": [
    "# Big O example"
   ]
  },
  {
   "cell_type": "markdown",
   "id": "precious-microphone",
   "metadata": {},
   "source": [
    "### O[1] Constant"
   ]
  },
  {
   "cell_type": "code",
   "execution_count": 5,
   "id": "numerous-monaco",
   "metadata": {},
   "outputs": [
    {
     "name": "stdout",
     "output_type": "stream",
     "text": [
      "1\n"
     ]
    }
   ],
   "source": [
    "def func_constant(values):\n",
    "    '''\n",
    "    Prints first item in a list of values\n",
    "    '''\n",
    "    print(values[0])\n",
    "func_constant([1,2,3])"
   ]
  },
  {
   "cell_type": "markdown",
   "id": "dental-westminster",
   "metadata": {},
   "source": [
    "### O(n) Linear "
   ]
  },
  {
   "cell_type": "code",
   "execution_count": 7,
   "id": "moderate-establishment",
   "metadata": {},
   "outputs": [
    {
     "name": "stdout",
     "output_type": "stream",
     "text": [
      "1\n",
      "2\n",
      "3\n"
     ]
    }
   ],
   "source": [
    "def func_lin(lst):\n",
    "    '''\n",
    "    Takes in list and prints out all values\n",
    "    '''\n",
    "    for val in lst:\n",
    "        print(val)\n",
    "        \n",
    "func_lin([1,2,3])"
   ]
  },
  {
   "cell_type": "code",
   "execution_count": 8,
   "id": "american-storage",
   "metadata": {},
   "outputs": [],
   "source": [
    "# list size affect the list size \n",
    "# big larger ~ BigO larger too"
   ]
  },
  {
   "cell_type": "markdown",
   "id": "about-phone",
   "metadata": {},
   "source": [
    "# O(n^2) Quadratic "
   ]
  },
  {
   "cell_type": "code",
   "execution_count": 10,
   "id": "pleased-apparatus",
   "metadata": {},
   "outputs": [
    {
     "name": "stdout",
     "output_type": "stream",
     "text": [
      "1 1\n",
      "1 2\n",
      "1 3\n",
      "2 1\n",
      "2 2\n",
      "2 3\n",
      "3 1\n",
      "3 2\n",
      "3 3\n"
     ]
    }
   ],
   "source": [
    "def func_quad(lst):\n",
    "    '''\n",
    "    print pairs for every item in list.\n",
    "    '''\n",
    "    for item_1 in lst:\n",
    "        for item_2 in lst:\n",
    "            print(item_1, item_2)\n",
    "            \n",
    "lst = [1, 2, 3]\n",
    "func_quad(lst)"
   ]
  },
  {
   "cell_type": "markdown",
   "id": "contained-channel",
   "metadata": {},
   "source": [
    "- two loops, one nested inside another\n",
    "- for a list of n items, we will have to perform n operations for every item in the list!\n",
    "- this means in total, we will perform n times n assignments,or n^2.\n",
    "- more list size o even bigger "
   ]
  },
  {
   "cell_type": "markdown",
   "id": "tamil-christopher",
   "metadata": {},
   "source": [
    "## Calculating Scale of Big-O\n",
    "insignificant terms frop out of Big-O notation\n",
    "\n",
    "When it comes to Big O notation we only care about the most significant terms, \n",
    "\n",
    "remember as the input grows larger only the fastest growing terms will matter"
   ]
  },
  {
   "cell_type": "code",
   "execution_count": 13,
   "id": "cultural-startup",
   "metadata": {},
   "outputs": [
    {
     "name": "stdout",
     "output_type": "stream",
     "text": [
      "1\n",
      "2\n",
      "3\n"
     ]
    }
   ],
   "source": [
    "lst = [1, 2, 3]\n",
    "\n",
    "def print_once(lst):\n",
    "    '''\n",
    "    Prints all items once\n",
    "    '''\n",
    "    for val in lst:\n",
    "        print(val)\n",
    "print_once(lst)\n",
    "\n",
    "# see how this growth is linear to the input\n",
    "# O(n)"
   ]
  },
  {
   "cell_type": "code",
   "execution_count": 17,
   "id": "false-credit",
   "metadata": {},
   "outputs": [
    {
     "name": "stdout",
     "output_type": "stream",
     "text": [
      "1\n",
      "2\n",
      "3\n",
      "1\n",
      "2\n",
      "3\n",
      "1\n",
      "2\n",
      "3\n"
     ]
    }
   ],
   "source": [
    "lst = [1, 2, 3] \n",
    "\n",
    "def print_3(lst):\n",
    "    '''\n",
    "    Prints all items three times \n",
    "    '''\n",
    "    for val in lst:\n",
    "        print(val)\n",
    "        \n",
    "    for val in lst:\n",
    "        print(val)\n",
    "        \n",
    "    for val in lst:\n",
    "        print(val)\n",
    "print_3(lst)\n",
    "\n",
    "# the algo will run3 times for each n, so this becomes an order of 3(n). it is still linear\n",
    "# more importantly, 3(infinity) is not really different than (infinity) and we can drop insignificant constants\n",
    "# so this too is O(n)"
   ]
  },
  {
   "cell_type": "code",
   "execution_count": 20,
   "id": "extra-terror",
   "metadata": {},
   "outputs": [],
   "source": [
    "def comp(lst):\n",
    "    '''\n",
    "    This function prints the first item O(1) it is a constant\n",
    "    Then tis prints the first 1/2 of the list O(n/2)\n",
    "    Then prints a string 10 times O(10) it is a constant\n",
    "    '''\n",
    "    print(lst[0])\n",
    "    \n",
    "    midpoint = len(lst)//2\n",
    "    \n",
    "    for val in lst[:midpoint]:\n",
    "        print(val)\n",
    "        \n",
    "    for x in range(10):\n",
    "        print('number')"
   ]
  },
  {
   "cell_type": "code",
   "execution_count": 21,
   "id": "continued-consumption",
   "metadata": {},
   "outputs": [
    {
     "name": "stdout",
     "output_type": "stream",
     "text": [
      "1\n",
      "1\n",
      "2\n",
      "3\n",
      "4\n",
      "5\n",
      "number\n",
      "number\n",
      "number\n",
      "number\n",
      "number\n",
      "number\n",
      "number\n",
      "number\n",
      "number\n",
      "number\n"
     ]
    }
   ],
   "source": [
    "lst = [1,2,3,4,5,6,7,8,9,10]\n",
    "comp(lst)"
   ]
  },
  {
   "cell_type": "markdown",
   "id": "assumed-keyboard",
   "metadata": {},
   "source": [
    "### O(1 +n/2 +10)\n",
    "- An n gets larger and larger (scales up) you can easily see how the 1 and the 10 quickly begin to mean nothing.\n",
    "- And the //2 will begin to have no effect either\n",
    "- End up with O(n)"
   ]
  },
  {
   "cell_type": "markdown",
   "id": "genetic-absorption",
   "metadata": {},
   "source": [
    "## Worst Case vs Best Case"
   ]
  },
  {
   "cell_type": "markdown",
   "id": "downtown-punch",
   "metadata": {},
   "source": [
    "- Many times we are only concerned with the worst possible case of an algorithm,\n",
    "- but in an interview setting its important to keep in mind that worst case and best case \n",
    "- secenarios may be completely different Big-O times"
   ]
  },
  {
   "cell_type": "code",
   "execution_count": 26,
   "id": "hungarian-sector",
   "metadata": {},
   "outputs": [],
   "source": [
    "def matcher(lst,match):\n",
    "    '''\n",
    "    Given a list lst, return a boolean indicating if match item is in the list\n",
    "    '''\n",
    "    for item in lst:\n",
    "        if item == match:\n",
    "            return True\n",
    "    return False"
   ]
  },
  {
   "cell_type": "code",
   "execution_count": 28,
   "id": "minor-immigration",
   "metadata": {},
   "outputs": [],
   "source": [
    "lst = [1, 2, 3, 4, 5, 6, 7, 8, 9, 10]"
   ]
  },
  {
   "cell_type": "code",
   "execution_count": 29,
   "id": "automotive-irrigation",
   "metadata": {},
   "outputs": [
    {
     "data": {
      "text/plain": [
       "True"
      ]
     },
     "execution_count": 29,
     "metadata": {},
     "output_type": "execute_result"
    }
   ],
   "source": [
    "matcher(lst, 1) # this is best case because item seeked is index0. O(1) Best case becomes a constant"
   ]
  },
  {
   "cell_type": "code",
   "execution_count": 30,
   "id": "permanent-metro",
   "metadata": {},
   "outputs": [
    {
     "data": {
      "text/plain": [
       "False"
      ]
     },
     "execution_count": 30,
     "metadata": {},
     "output_type": "execute_result"
    }
   ],
   "source": [
    "matcher(lst, 20) # worst case, entire List be searched, n elements. O(n) Worst beacomes Linear"
   ]
  },
  {
   "cell_type": "code",
   "execution_count": null,
   "id": "regular-raising",
   "metadata": {},
   "outputs": [],
   "source": []
  }
 ],
 "metadata": {
  "kernelspec": {
   "display_name": "Python 3",
   "language": "python",
   "name": "python3"
  },
  "language_info": {
   "codemirror_mode": {
    "name": "ipython",
    "version": 3
   },
   "file_extension": ".py",
   "mimetype": "text/x-python",
   "name": "python",
   "nbconvert_exporter": "python",
   "pygments_lexer": "ipython3",
   "version": "3.7.7"
  }
 },
 "nbformat": 4,
 "nbformat_minor": 5
}
