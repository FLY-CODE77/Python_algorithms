{
 "cells": [
  {
   "cell_type": "code",
   "execution_count": 2,
   "id": "minor-thursday",
   "metadata": {},
   "outputs": [],
   "source": [
    "from IPython.display import Image  "
   ]
  },
  {
   "cell_type": "markdown",
   "id": "political-complex",
   "metadata": {},
   "source": [
    "# ARRAY SEQUENCES"
   ]
  },
  {
   "cell_type": "markdown",
   "id": "delayed-philosophy",
   "metadata": {},
   "source": [
    "- LIST[]\n",
    "- TUPLE(,)\n",
    "- STRING(\"\")\n",
    "### ALL Support Indexing"
   ]
  },
  {
   "cell_type": "code",
   "execution_count": 9,
   "id": "burning-system",
   "metadata": {},
   "outputs": [],
   "source": [
    "#### LOW LEVEL MEMORY"
   ]
  },
  {
   "cell_type": "markdown",
   "id": "unknown-record",
   "metadata": {},
   "source": [
    "To understand how arrays work we need to understand low level computer architecture\n",
    "\n",
    "- memry stored in bits\n",
    "- 8 bits = 1 byte\n",
    "- memory address for each byte"
   ]
  },
  {
   "cell_type": "markdown",
   "id": "incorrect-medication",
   "metadata": {},
   "source": [
    "<img src=\"https://img1.daumcdn.net/thumb/R1280x0/?scode=mtistory2&fname=https%3A%2F%2Fblog.kakaocdn.net%2Fdn%2FdaiWrc%2Fbtq1xmCbFuE%2FFkaEd480FTpG9SHw8FbZD1%2Fimg.png\">\n"
   ]
  },
  {
   "cell_type": "markdown",
   "id": "pretty-nancy",
   "metadata": {},
   "source": [
    "- example \n",
    "- 2144 is 1 byte mean 8 bits in the 2144 block"
   ]
  },
  {
   "cell_type": "markdown",
   "id": "conventional-jewel",
   "metadata": {},
   "source": [
    "stored and retrieved in O(1) constant time"
   ]
  },
  {
   "cell_type": "markdown",
   "id": "parliamentary-colombia",
   "metadata": {},
   "source": [
    "<img src=\"https://img1.daumcdn.net/thumb/R1280x0/?scode=mtistory2&fname=https%3A%2F%2Fblog.kakaocdn.net%2Fdn%2FdfKhNS%2Fbtq1z39xnbR%2FafqBs3OJVU7rbHFDKb7pj0%2Fimg.png\">\n"
   ]
  },
  {
   "cell_type": "markdown",
   "id": "approved-above",
   "metadata": {},
   "source": [
    "Python represents UNICODE character with 16 bits(2 bytes)"
   ]
  },
  {
   "cell_type": "markdown",
   "id": "cathedral-jacket",
   "metadata": {},
   "source": [
    "SAMPLE is 6 charactes = 12bytes "
   ]
  },
  {
   "cell_type": "markdown",
   "id": "informal-performance",
   "metadata": {},
   "source": [
    "- ARRAY of 6 characters\n",
    "- Each character takes up a CELL\n",
    "- INDEX describes location"
   ]
  },
  {
   "cell_type": "markdown",
   "id": "thirty-astronomy",
   "metadata": {},
   "source": [
    "# Lists and References\n",
    "- Create a list called primes , storing prime numbers\n",
    "- If I create a new object temp, and have it reference a portion of my prime list\n",
    "- I have created a new list but referencing an exiting index location"
   ]
  },
  {
   "cell_type": "markdown",
   "id": "patient-cheat",
   "metadata": {},
   "source": [
    "<img src=\"https://img1.daumcdn.net/thumb/R1280x0/?scode=mtistory2&fname=https%3A%2F%2Fblog.kakaocdn.net%2Fdn%2FbyIQB8%2Fbtq1xmPLSRT%2FMU96xk8dACKx73Uf0DD9f0%2Fimg.png\">"
   ]
  },
  {
   "cell_type": "markdown",
   "id": "irish-stranger",
   "metadata": {},
   "source": [
    "- if i want to change an indexed assignment in new temp listt..\n",
    "- temp[2] = 15\n",
    "- The original list is not changed, the new indexed position just points to a different object\n",
    "- Take away = new list create a shallow copy meaning you only changing/creating your pointers\n",
    "- not duplicating objects in memory \n",
    "- Much of what we are doing is manipulating references and calls, not the objects itself."
   ]
  },
  {
   "cell_type": "code",
   "execution_count": null,
   "id": "grave-health",
   "metadata": {},
   "outputs": [],
   "source": []
  }
 ],
 "metadata": {
  "kernelspec": {
   "display_name": "Python 3",
   "language": "python",
   "name": "python3"
  },
  "language_info": {
   "codemirror_mode": {
    "name": "ipython",
    "version": 3
   },
   "file_extension": ".py",
   "mimetype": "text/x-python",
   "name": "python",
   "nbconvert_exporter": "python",
   "pygments_lexer": "ipython3",
   "version": "3.7.6"
  }
 },
 "nbformat": 4,
 "nbformat_minor": 5
}
