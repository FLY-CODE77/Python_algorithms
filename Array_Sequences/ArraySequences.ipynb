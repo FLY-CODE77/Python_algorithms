{
 "cells": [
  {
   "cell_type": "code",
   "execution_count": 2,
   "id": "identical-drinking",
   "metadata": {},
   "outputs": [],
   "source": [
    "from IPython.display import Image  "
   ]
  },
  {
   "cell_type": "markdown",
   "id": "latter-genealogy",
   "metadata": {},
   "source": [
    "# ARRAY SEQUENCES"
   ]
  },
  {
   "cell_type": "markdown",
   "id": "choice-steps",
   "metadata": {},
   "source": [
    "- LIST[]\n",
    "- TUPLE(,)\n",
    "- STRING(\"\")\n",
    "### ALL Support Indexing"
   ]
  },
  {
   "cell_type": "code",
   "execution_count": 9,
   "id": "attached-chocolate",
   "metadata": {},
   "outputs": [],
   "source": [
    "#### LOW LEVEL MEMORY"
   ]
  },
  {
   "cell_type": "markdown",
   "id": "silent-traffic",
   "metadata": {},
   "source": [
    "To understand how arrays work we need to understand low level computer architecture\n",
    "\n",
    "- memry stored in bits\n",
    "- 8 bits = 1 byte\n",
    "- memory address for each byte"
   ]
  },
  {
   "cell_type": "markdown",
   "id": "breeding-soldier",
   "metadata": {},
   "source": [
    "<img src=\"https://img1.daumcdn.net/thumb/R1280x0/?scode=mtistory2&fname=https%3A%2F%2Fblog.kakaocdn.net%2Fdn%2FdaiWrc%2Fbtq1xmCbFuE%2FFkaEd480FTpG9SHw8FbZD1%2Fimg.png\">\n"
   ]
  },
  {
   "cell_type": "markdown",
   "id": "capital-religion",
   "metadata": {},
   "source": [
    "- example \n",
    "- 2144 is 1 byte mean 8 bits in the 2144 block"
   ]
  },
  {
   "cell_type": "markdown",
   "id": "forced-ensemble",
   "metadata": {},
   "source": [
    "stored and retrieved in O(1) constant time"
   ]
  },
  {
   "cell_type": "markdown",
   "id": "fifteen-drain",
   "metadata": {},
   "source": [
    "<img src=\"https://img1.daumcdn.net/thumb/R1280x0/?scode=mtistory2&fname=https%3A%2F%2Fblog.kakaocdn.net%2Fdn%2FdfKhNS%2Fbtq1z39xnbR%2FafqBs3OJVU7rbHFDKb7pj0%2Fimg.png\">\n"
   ]
  },
  {
   "cell_type": "markdown",
   "id": "administrative-conjunction",
   "metadata": {},
   "source": [
    "Python represents UNICODE character with 16 bits(2 bytes)"
   ]
  },
  {
   "cell_type": "markdown",
   "id": "intermediate-liberia",
   "metadata": {},
   "source": [
    "SAMPLE is 6 charactes = 12bytes "
   ]
  },
  {
   "cell_type": "markdown",
   "id": "suspended-spelling",
   "metadata": {},
   "source": [
    "- ARRAY of 6 characters\n",
    "- Each character takes up a CELL\n",
    "- INDEX describes location"
   ]
  },
  {
   "cell_type": "markdown",
   "id": "strong-location",
   "metadata": {},
   "source": [
    "# Lists and References\n",
    "- Create a list called primes , storing prime numbers\n",
    "- If I create a new object temp, and have it reference a portion of my prime list\n",
    "- I have created a new list but referencing an exiting index location"
   ]
  },
  {
   "cell_type": "markdown",
   "id": "abstract-switch",
   "metadata": {},
   "source": [
    "<img src=\"https://img1.daumcdn.net/thumb/R1280x0/?scode=mtistory2&fname=https%3A%2F%2Fblog.kakaocdn.net%2Fdn%2FbyIQB8%2Fbtq1xmPLSRT%2FMU96xk8dACKx73Uf0DD9f0%2Fimg.png\">"
   ]
  },
  {
   "cell_type": "markdown",
   "id": "sunrise-fisher",
   "metadata": {},
   "source": [
    "- if i want to change an indexed assignment in new temp listt..\n",
    "- temp[2] = 15\n",
    "- The original list is not changed, the new indexed position just points to a different object\n",
    "- Take away = new list create a shallow copy meaning you only changing/creating your pointers\n",
    "- not duplicating objects in memory \n",
    "- Much of what we are doing is manipulating references and calls, not the objects itself."
   ]
  },
  {
   "cell_type": "code",
   "execution_count": 1,
   "id": "further-saint",
   "metadata": {
    "scrolled": true
   },
   "outputs": [
    {
     "name": "stdout",
     "output_type": "stream",
     "text": [
      "Length :   0; Size in bytes:   72\n",
      "Length :   1; Size in bytes:  104\n",
      "Length :   2; Size in bytes:  104\n",
      "Length :   3; Size in bytes:  104\n",
      "Length :   4; Size in bytes:  104\n",
      "Length :   5; Size in bytes:  136\n",
      "Length :   6; Size in bytes:  136\n",
      "Length :   7; Size in bytes:  136\n",
      "Length :   8; Size in bytes:  136\n",
      "Length :   9; Size in bytes:  200\n"
     ]
    }
   ],
   "source": [
    "import sys\n",
    "n = 10\n",
    "data = []\n",
    "for i in range(n):\n",
    "    a = len(data)\n",
    "    b = sys.getsizeof(data)\n",
    "    \n",
    "    print('Length : {0:3d}; Size in bytes: {1:4d}'.format(a,b))\n",
    "    \n",
    "    data.append(n)"
   ]
  },
  {
   "cell_type": "markdown",
   "id": "material-words",
   "metadata": {},
   "source": [
    "<img src=\"https://img1.daumcdn.net/thumb/R1280x0/?scode=mtistory2&fname=https%3A%2F%2Fblog.kakaocdn.net%2Fdn%2F7bvrM%2Fbtq2y4sg4sP%2Fh6Km5Zzfn3idXOYMGiqvNk%2Fimg.png\">"
   ]
  },
  {
   "cell_type": "markdown",
   "id": "bibliographic-signal",
   "metadata": {},
   "source": [
    "**How python increase memory size**\n",
    "- Untill size 4 it don't need more then 4 boxs of memory\n",
    "- up to 5 python make new memory box here 8 boxs and point same value of 4boxs and replace it"
   ]
  },
  {
   "cell_type": "code",
   "execution_count": null,
   "id": "coastal-lodging",
   "metadata": {},
   "outputs": [],
   "source": []
  }
 ],
 "metadata": {
  "kernelspec": {
   "display_name": "Python 3",
   "language": "python",
   "name": "python3"
  },
  "language_info": {
   "codemirror_mode": {
    "name": "ipython",
    "version": 3
   },
   "file_extension": ".py",
   "mimetype": "text/x-python",
   "name": "python",
   "nbconvert_exporter": "python",
   "pygments_lexer": "ipython3",
   "version": "3.7.7"
  }
 },
 "nbformat": 4,
 "nbformat_minor": 5
}
